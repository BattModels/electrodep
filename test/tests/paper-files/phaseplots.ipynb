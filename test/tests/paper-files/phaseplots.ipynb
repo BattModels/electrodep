{
 "cells": [
  {
   "cell_type": "code",
   "execution_count": 4,
   "metadata": {
    "scrolled": true
   },
   "outputs": [
    {
     "name": "stdout",
     "output_type": "stream",
     "text": [
      "Once deleted, variables cannot be recovered. Proceed (y/[n])? y\n"
     ]
    },
    {
     "name": "stderr",
     "output_type": "stream",
     "text": [
      "ERROR:root:Invalid alias: The name clear can't be aliased because it is another magic command.\n",
      "ERROR:root:Invalid alias: The name more can't be aliased because it is another magic command.\n",
      "ERROR:root:Invalid alias: The name less can't be aliased because it is another magic command.\n",
      "ERROR:root:Invalid alias: The name man can't be aliased because it is another magic command.\n"
     ]
    }
   ],
   "source": [
    "%reset"
   ]
  },
  {
   "cell_type": "code",
   "execution_count": 9,
   "metadata": {},
   "outputs": [],
   "source": [
    "import yt\n",
    "from matplotlib import rcParams\n",
    "from yt import derived_field\n",
    "rcParams['font.family'] = 'serif'\n",
    "rcParams['font.size'] = 17\n",
    "rcParams['font.serif'] = ['Computer Modern Roman']\n",
    "rcParams['text.usetex'] = True\n",
    "rcParams[\"font.weight\"] = \"bold\"\n",
    "rcParams[\"axes.labelweight\"] = \"bold\""
   ]
  },
  {
   "cell_type": "code",
   "execution_count": 8,
   "metadata": {},
   "outputs": [
    {
     "name": "stderr",
     "output_type": "stream",
     "text": [
      "yt : [WARNING  ] 2019-06-21 17:50:40,196 No info_records found\n",
      "yt : [INFO     ] 2019-06-21 17:50:40,206 Loading coordinates\n",
      "yt : [INFO     ] 2019-06-21 17:50:40,221 Loading connectivity\n",
      "yt : [INFO     ] 2019-06-21 17:50:40,257 Parameters: current_time              = 120.44523437502468\n",
      "yt : [INFO     ] 2019-06-21 17:50:40,257 Parameters: domain_dimensions         = [1 1 1]\n",
      "yt : [INFO     ] 2019-06-21 17:50:40,259 Parameters: domain_left_edge          = [-20. -20.   0.]\n",
      "yt : [INFO     ] 2019-06-21 17:50:40,263 Parameters: domain_right_edge         = [220. 220.   1.]\n",
      "yt : [INFO     ] 2019-06-21 17:50:40,268 Parameters: cosmological_simulation   = 0\n",
      "yt : [INFO     ] 2019-06-21 17:50:40,274 Loading coordinates\n",
      "yt : [INFO     ] 2019-06-21 17:50:40,296 Loading connectivity\n",
      "yt : [INFO     ] 2019-06-21 17:50:40,564 xlim = -20.000000 220.000000\n",
      "yt : [INFO     ] 2019-06-21 17:50:40,565 ylim = -20.000000 220.000000\n",
      "yt : [INFO     ] 2019-06-21 17:50:40,567 xlim = -20.000000 220.000000\n",
      "yt : [INFO     ] 2019-06-21 17:50:40,570 ylim = -20.000000 220.000000\n",
      "yt : [INFO     ] 2019-06-21 17:50:40,572 Making a fixed resolution buffer of (('all', 'eta')) 800 by 800\n",
      "yt : [INFO     ] 2019-06-21 17:50:41,071 Making a fixed resolution buffer of (('all', 'eta')) 800 by 800\n",
      "yt : [INFO     ] 2019-06-21 17:50:41,556 Saving plot cropped/nucl_0_200.pdf\n"
     ]
    },
    {
     "data": {
      "text/plain": [
       "['cropped/nucl_0_200.pdf']"
      ]
     },
     "execution_count": 8,
     "metadata": {},
     "output_type": "execute_result"
    }
   ],
   "source": [
    "ds = yt.load(\"lcn0_other.e\", step=200)\n",
    "slc = yt.SlicePlot(ds, 2, ('all','eta'), origin=\"native\")\n",
    "slc.set_figure_size(4)\n",
    "slc.set_log(('all','eta'), False)\n",
    "slc.set_xlabel(\"$x$ ($\\mu$m)\")\n",
    "slc.set_ylabel(\"$y$ ($\\mu$m)\")\n",
    "#slc.set_xlim(0,200)s/\n",
    "slc.set_colorbar_label(('all', 'eta'), \"$\\\\xi$\")\n",
    "slc.set_width((200, 200))\n",
    "slc.set_zlim('eta',0,1)\n",
    "slc.set_cmap(field=('all','eta'), cmap='RdBu_r')\n",
    "slc.hide_colorbar()\n",
    "slc.hide_axes()\n",
    "slc.save(\"cropped/nucl_0_200.pdf\")"
   ]
  },
  {
   "cell_type": "code",
   "execution_count": 7,
   "metadata": {},
   "outputs": [
    {
     "name": "stderr",
     "output_type": "stream",
     "text": [
      "yt : [WARNING  ] 2019-06-21 17:50:35,913 No info_records found\n",
      "yt : [INFO     ] 2019-06-21 17:50:35,924 Loading coordinates\n",
      "yt : [INFO     ] 2019-06-21 17:50:35,940 Loading connectivity\n",
      "yt : [INFO     ] 2019-06-21 17:50:35,986 Parameters: current_time              = 120.46558593752472\n",
      "yt : [INFO     ] 2019-06-21 17:50:35,988 Parameters: domain_dimensions         = [1 1 1]\n",
      "yt : [INFO     ] 2019-06-21 17:50:35,989 Parameters: domain_left_edge          = [-20. -20.   0.]\n",
      "yt : [INFO     ] 2019-06-21 17:50:36,006 Parameters: domain_right_edge         = [220. 220.   1.]\n",
      "yt : [INFO     ] 2019-06-21 17:50:36,009 Parameters: cosmological_simulation   = 0\n",
      "yt : [INFO     ] 2019-06-21 17:50:36,011 Loading coordinates\n",
      "yt : [INFO     ] 2019-06-21 17:50:36,020 Loading connectivity\n",
      "yt : [INFO     ] 2019-06-21 17:50:36,274 xlim = -20.000000 220.000000\n",
      "yt : [INFO     ] 2019-06-21 17:50:36,281 ylim = -20.000000 220.000000\n",
      "yt : [INFO     ] 2019-06-21 17:50:36,286 xlim = -20.000000 220.000000\n",
      "yt : [INFO     ] 2019-06-21 17:50:36,288 ylim = -20.000000 220.000000\n",
      "yt : [INFO     ] 2019-06-21 17:50:36,293 Making a fixed resolution buffer of (('all', 'eta')) 800 by 800\n",
      "yt : [INFO     ] 2019-06-21 17:50:37,334 Making a fixed resolution buffer of (('all', 'eta')) 800 by 800\n",
      "yt : [INFO     ] 2019-06-21 17:50:37,791 Saving plot cropped/nucl_101_alpha0_200.pdf\n"
     ]
    },
    {
     "data": {
      "text/plain": [
       "['cropped/nucl_101_alpha0_200.pdf']"
      ]
     },
     "execution_count": 7,
     "metadata": {},
     "output_type": "execute_result"
    }
   ],
   "source": [
    "ds = yt.load(\"lcn_Kp_p_1.0E+01_c_1.0E+00_other_alpha0.e\", step=200)\n",
    "slc = yt.SlicePlot(ds, 2, ('all','eta'), origin=\"native\")\n",
    "slc.set_figure_size(4)\n",
    "slc.set_log(('all','eta'), False)\n",
    "slc.set_xlabel(\"x ($\\mu$m)\")\n",
    "slc.set_ylabel(\"y ($\\mu$m)\")\n",
    "#slc.set_xlim(0,200)s\n",
    "slc.set_colorbar_label(('all', 'eta'), \"$\\\\xi$\")\n",
    "slc.set_width((200, 200))\n",
    "slc.set_zlim('eta',0,1)\n",
    "slc.set_cmap(field=('all','eta'), cmap='RdBu_r')\n",
    "slc.hide_colorbar()\n",
    "slc.hide_axes()\n",
    "slc.save(\"cropped/nucl_101_alpha0_200.pdf\")"
   ]
  },
  {
   "cell_type": "code",
   "execution_count": 18,
   "metadata": {},
   "outputs": [
    {
     "name": "stderr",
     "output_type": "stream",
     "text": [
      "yt : [WARNING  ] 2019-06-05 20:59:06,368 No info_records found\n",
      "yt : [INFO     ] 2019-06-05 20:59:06,382 Loading coordinates\n",
      "yt : [INFO     ] 2019-06-05 20:59:06,389 Loading connectivity\n",
      "yt : [INFO     ] 2019-06-05 20:59:06,423 Parameters: current_time              = 31.06558593750206\n",
      "yt : [INFO     ] 2019-06-05 20:59:06,428 Parameters: domain_dimensions         = [1 1 1]\n",
      "yt : [INFO     ] 2019-06-05 20:59:06,432 Parameters: domain_left_edge          = [-20. -20.   0.]\n",
      "yt : [INFO     ] 2019-06-05 20:59:06,435 Parameters: domain_right_edge         = [220. 220.   1.]\n",
      "yt : [INFO     ] 2019-06-05 20:59:06,437 Parameters: cosmological_simulation   = 0\n",
      "yt : [INFO     ] 2019-06-05 20:59:06,438 Loading coordinates\n",
      "yt : [INFO     ] 2019-06-05 20:59:06,449 Loading connectivity\n"
     ]
    },
    {
     "data": {
      "text/plain": [
       "[('all', 'Gox'),\n",
       " ('all', 'Gred'),\n",
       " ('all', 'argexplc'),\n",
       " ('all', 'c'),\n",
       " ('all', 'currdens'),\n",
       " ('all', 'dGox/deta'),\n",
       " ('all', 'dGox/dpot'),\n",
       " ('all', 'dGred/deta'),\n",
       " ('all', 'dGred/dpot'),\n",
       " ('all', 'dGred/dw'),\n",
       " ('all', 'edf'),\n",
       " ('all', 'epen'),\n",
       " ('all', 'eta'),\n",
       " ('all', 'etao'),\n",
       " ('all', 'gradeta_x'),\n",
       " ('all', 'gradeta_y'),\n",
       " ('all', 'lambda'),\n",
       " ('all', 'lcovp'),\n",
       " ('all', 'nlc_x'),\n",
       " ('all', 'nlc_y'),\n",
       " ('all', 'pot'),\n",
       " ('all', 'surfpen'),\n",
       " ('all', 'w'),\n",
       " ('connect1', 'Gox'),\n",
       " ('connect1', 'Gred'),\n",
       " ('connect1', 'argexplc'),\n",
       " ('connect1', 'c'),\n",
       " ('connect1', 'currdens'),\n",
       " ('connect1', 'dGox/deta'),\n",
       " ('connect1', 'dGox/dpot'),\n",
       " ('connect1', 'dGred/deta'),\n",
       " ('connect1', 'dGred/dpot'),\n",
       " ('connect1', 'dGred/dw'),\n",
       " ('connect1', 'edf'),\n",
       " ('connect1', 'epen'),\n",
       " ('connect1', 'eta'),\n",
       " ('connect1', 'etao'),\n",
       " ('connect1', 'gradeta_x'),\n",
       " ('connect1', 'gradeta_y'),\n",
       " ('connect1', 'lambda'),\n",
       " ('connect1', 'lcovp'),\n",
       " ('connect1', 'nlc_x'),\n",
       " ('connect1', 'nlc_y'),\n",
       " ('connect1', 'pot'),\n",
       " ('connect1', 'surfpen'),\n",
       " ('connect1', 'w')]"
      ]
     },
     "execution_count": 18,
     "metadata": {},
     "output_type": "execute_result"
    }
   ],
   "source": [
    "ds = yt.load(\"lcn_Kp_p_1.0E+01_c_1.0E+00_other_alpha0.e\", step=51)\n",
    "ds.field_list"
   ]
  },
  {
   "cell_type": "code",
   "execution_count": 8,
   "metadata": {},
   "outputs": [
    {
     "name": "stderr",
     "output_type": "stream",
     "text": [
      "yt : [WARNING  ] 2019-06-08 14:45:26,700 No info_records found\n",
      "yt : [INFO     ] 2019-06-08 14:45:26,717 Loading coordinates\n",
      "yt : [INFO     ] 2019-06-08 14:45:26,730 Loading connectivity\n",
      "yt : [INFO     ] 2019-06-08 14:45:26,773 Parameters: current_time              = 100.06558593751429\n",
      "yt : [INFO     ] 2019-06-08 14:45:26,776 Parameters: domain_dimensions         = [1 1 1]\n",
      "yt : [INFO     ] 2019-06-08 14:45:26,782 Parameters: domain_left_edge          = [-20. -20.   0.]\n",
      "yt : [INFO     ] 2019-06-08 14:45:26,785 Parameters: domain_right_edge         = [220. 220.   1.]\n",
      "yt : [INFO     ] 2019-06-08 14:45:26,789 Parameters: cosmological_simulation   = 0\n",
      "yt : [INFO     ] 2019-06-08 14:45:26,791 Loading coordinates\n",
      "yt : [INFO     ] 2019-06-08 14:45:26,810 Loading connectivity\n",
      "yt : [WARNING  ] 2019-06-08 14:45:26,987 Field ('gas', 'negG') already exists. To override use force_override=True.\n",
      "/Users/zeeshan/Downloads/repo/yt-git/yt/fields/local_fields.py:46: UserWarning: Because 'sampling_type' not specified, yt will assume a cell 'sampling_type'\n",
      "  warnings.warn(\"Because 'sampling_type' not specified, yt will \"\n",
      "/Users/zeeshan/miniconda2/envs/atomic/lib/python3.7/site-packages/ipykernel_launcher.py:8: UserWarning: Because 'sampling_type' not specified, yt will assume a cell 'sampling_type'\n",
      "  \n",
      "yt : [INFO     ] 2019-06-08 14:45:27,380 xlim = -20.000000 220.000000\n",
      "yt : [INFO     ] 2019-06-08 14:45:27,381 ylim = -20.000000 220.000000\n",
      "yt : [INFO     ] 2019-06-08 14:45:27,385 xlim = -20.000000 220.000000\n",
      "yt : [INFO     ] 2019-06-08 14:45:27,387 ylim = -20.000000 220.000000\n",
      "yt : [INFO     ] 2019-06-08 14:45:27,394 Making a fixed resolution buffer of (('connect1', 'negG')) 800 by 800\n",
      "yt : [WARNING  ] 2019-06-08 14:45:28,025 Plot image for field ('connect1', 'negG') has both positive and negative values. Min = -0.003168, Max = 0.856605.\n",
      "yt : [WARNING  ] 2019-06-08 14:45:28,027 Switching to symlog colorbar scaling unless linear scaling is specified later\n",
      "yt : [INFO     ] 2019-06-08 14:45:28,491 Making a fixed resolution buffer of (('connect1', 'negG')) 800 by 800\n",
      "WARNING:matplotlib.mathtext:Font 'nonuniit' does not have a glyph for 'M' [U+e239], substituting with a dummy symbol.\n",
      "yt : [INFO     ] 2019-06-08 14:45:29,509 Saving plot nucl_101_alpha0_G_166.pdf\n"
     ]
    },
    {
     "data": {
      "text/plain": [
       "['nucl_101_alpha0_G_166.pdf']"
      ]
     },
     "execution_count": 8,
     "metadata": {},
     "output_type": "execute_result"
    }
   ],
   "source": [
    "from yt import derived_field\n",
    "\n",
    "ds = yt.load(\"lcn_Kp_p_1.0E+01_c_1.0E+00_other_alpha0.e\", step=166)\n",
    "\n",
    "@derived_field(name=\"negG\")\n",
    "def _negG(field, ds):\n",
    "    return -ds[('all','currdens')] \n",
    "ds.add_field((\"connect1\", \"negG\"), function=_negG, force_override=True)\n",
    "slc = yt.SlicePlot(ds, 2, ('connect1','negG'), origin=\"native\")\n",
    "slc.set_figure_size(4)\n",
    "slc.set_log(('connect1','negG'), False)\n",
    "slc.set_xlabel(\"$x$ ($\\mu$m)\")\n",
    "slc.set_ylabel(\"$y$ ($\\mu$m)\")\n",
    "slc.set_colorbar_label(('connect1', 'negG'), r\"$\\mathcal{M}_{\\eta}h'(\\xi)f(\\eta)$\")\n",
    "slc.set_width((200, 200))\n",
    "slc.set_zlim(('connect1','negG'),0,1)\n",
    "#slc.hide_colorbar()\n",
    "slc.set_cmap(field=('connect1','negG'), cmap='RdBu_r')\n",
    "slc.save(\"nucl_101_alpha0_G_166.pdf\")"
   ]
  },
  {
   "cell_type": "code",
   "execution_count": 5,
   "metadata": {},
   "outputs": [
    {
     "name": "stderr",
     "output_type": "stream",
     "text": [
      "yt : [WARNING  ] 2019-06-08 14:39:28,368 No info_records found\n",
      "yt : [INFO     ] 2019-06-08 14:39:28,378 Loading coordinates\n",
      "yt : [INFO     ] 2019-06-08 14:39:28,399 Loading connectivity\n",
      "yt : [INFO     ] 2019-06-08 14:39:28,440 Parameters: current_time              = 31.07023437500206\n",
      "yt : [INFO     ] 2019-06-08 14:39:28,440 Parameters: domain_dimensions         = [1 1 1]\n",
      "yt : [INFO     ] 2019-06-08 14:39:28,445 Parameters: domain_left_edge          = [-20. -20.   0.]\n",
      "yt : [INFO     ] 2019-06-08 14:39:28,448 Parameters: domain_right_edge         = [220. 220.   1.]\n",
      "yt : [INFO     ] 2019-06-08 14:39:28,449 Parameters: cosmological_simulation   = 0\n",
      "yt : [INFO     ] 2019-06-08 14:39:28,459 Loading coordinates\n",
      "yt : [INFO     ] 2019-06-08 14:39:28,471 Loading connectivity\n",
      "yt : [WARNING  ] 2019-06-08 14:39:28,630 Field ('gas', 'negG') already exists. To override use force_override=True.\n",
      "/Users/zeeshan/Downloads/repo/yt-git/yt/fields/local_fields.py:46: UserWarning: Because 'sampling_type' not specified, yt will assume a cell 'sampling_type'\n",
      "  warnings.warn(\"Because 'sampling_type' not specified, yt will \"\n",
      "/Users/zeeshan/miniconda2/envs/atomic/lib/python3.7/site-packages/ipykernel_launcher.py:6: UserWarning: Because 'sampling_type' not specified, yt will assume a cell 'sampling_type'\n",
      "  \n",
      "yt : [INFO     ] 2019-06-08 14:39:30,365 xlim = -20.000000 220.000000\n",
      "yt : [INFO     ] 2019-06-08 14:39:30,366 ylim = -20.000000 220.000000\n",
      "yt : [INFO     ] 2019-06-08 14:39:30,368 xlim = -20.000000 220.000000\n",
      "yt : [INFO     ] 2019-06-08 14:39:30,369 ylim = -20.000000 220.000000\n",
      "yt : [INFO     ] 2019-06-08 14:39:30,373 Making a fixed resolution buffer of (('connect1', 'negG')) 800 by 800\n",
      "yt : [WARNING  ] 2019-06-08 14:39:31,702 Plot image for field ('connect1', 'negG') has both positive and negative values. Min = -0.002683, Max = 0.763474.\n",
      "yt : [WARNING  ] 2019-06-08 14:39:31,703 Switching to symlog colorbar scaling unless linear scaling is specified later\n",
      "yt : [INFO     ] 2019-06-08 14:39:32,015 Making a fixed resolution buffer of (('connect1', 'negG')) 800 by 800\n",
      "Font 'nonuniit' does not have a glyph for 'M' [U+e239], substituting with a dummy symbol.\n",
      "yt : [INFO     ] 2019-06-08 14:39:32,882 Saving plot nucl_0_51.pdf\n"
     ]
    },
    {
     "data": {
      "text/plain": [
       "['nucl_0_51.pdf']"
      ]
     },
     "execution_count": 5,
     "metadata": {},
     "output_type": "execute_result"
    }
   ],
   "source": [
    "ds = yt.load(\"lcn0_other.e\", step=51)\n",
    "\n",
    "@derived_field(name=\"negG\")\n",
    "def _negG(field, ds):\n",
    "    return -ds[('all','G')]\n",
    "ds.add_field((\"connect1\", \"negG\"), function=_negG, force_override=True)\n",
    "slc = yt.SlicePlot(ds, 2, ('connect1','negG'), origin=\"native\")\n",
    "slc.set_figure_size(4)\n",
    "slc.set_log(('connect1','negG'), False)\n",
    "slc.set_xlabel(\"$x$ ($\\mu$m)\")\n",
    "slc.set_ylabel(\"$y$ ($\\mu$m)\")\n",
    "slc.set_colorbar_label(('connect1', 'negG'), r\"$\\mathcal{M}_{\\eta}h'(\\xi)f(\\eta)$\")\n",
    "slc.set_width((200, 200))\n",
    "#slc.set_zlim(('connect1','negG'),0,1)\n",
    "#slc.hide_colorbar()\n",
    "slc.set_cmap(field=('connect1','negG'), cmap='RdBu_r')\n",
    "slc.save(\"nucl_0_G_51.pdf\")"
   ]
  },
  {
   "cell_type": "code",
   "execution_count": 2,
   "metadata": {},
   "outputs": [
    {
     "name": "stderr",
     "output_type": "stream",
     "text": [
      "yt : [WARNING  ] 2019-06-08 14:41:23,829 No info_records found\n",
      "yt : [INFO     ] 2019-06-08 14:41:23,838 Loading coordinates\n",
      "yt : [INFO     ] 2019-06-08 14:41:23,848 Loading connectivity\n",
      "yt : [INFO     ] 2019-06-08 14:41:23,887 Parameters: current_time              = 31.06558593750206\n",
      "yt : [INFO     ] 2019-06-08 14:41:23,888 Parameters: domain_dimensions         = [1 1 1]\n",
      "yt : [INFO     ] 2019-06-08 14:41:23,890 Parameters: domain_left_edge          = [-20. -20.   0.]\n",
      "yt : [INFO     ] 2019-06-08 14:41:23,894 Parameters: domain_right_edge         = [220. 220.   1.]\n",
      "yt : [INFO     ] 2019-06-08 14:41:23,895 Parameters: cosmological_simulation   = 0\n",
      "yt : [INFO     ] 2019-06-08 14:41:23,906 Loading coordinates\n",
      "yt : [INFO     ] 2019-06-08 14:41:23,915 Loading connectivity\n",
      "/Users/zeeshan/Downloads/repo/yt-git/yt/fields/local_fields.py:46: UserWarning: Because 'sampling_type' not specified, yt will assume a cell 'sampling_type'\n",
      "  warnings.warn(\"Because 'sampling_type' not specified, yt will \"\n",
      "/Users/zeeshan/miniconda2/envs/atomic/lib/python3.7/site-packages/ipykernel_launcher.py:6: UserWarning: Because 'sampling_type' not specified, yt will assume a cell 'sampling_type'\n",
      "  \n",
      "yt : [INFO     ] 2019-06-08 14:41:26,590 xlim = -20.000000 220.000000\n",
      "yt : [INFO     ] 2019-06-08 14:41:26,591 ylim = -20.000000 220.000000\n",
      "yt : [INFO     ] 2019-06-08 14:41:26,594 xlim = -20.000000 220.000000\n",
      "yt : [INFO     ] 2019-06-08 14:41:26,596 ylim = -20.000000 220.000000\n",
      "yt : [INFO     ] 2019-06-08 14:41:26,632 Making a fixed resolution buffer of (('connect1', 'negG')) 800 by 800\n",
      "yt : [WARNING  ] 2019-06-08 14:41:28,265 Plot image for field ('connect1', 'negG') has both positive and negative values. Min = -0.002963, Max = 0.815110.\n",
      "yt : [WARNING  ] 2019-06-08 14:41:28,266 Switching to symlog colorbar scaling unless linear scaling is specified later\n",
      "findfont: Font family ['serif'] not found. Falling back to DejaVu Sans.\n",
      "yt : [INFO     ] 2019-06-08 14:41:28,907 Making a fixed resolution buffer of (('connect1', 'negG')) 800 by 800\n",
      "Font 'nonuniit' does not have a glyph for 'M' [U+e239], substituting with a dummy symbol.\n",
      "yt : [INFO     ] 2019-06-08 14:41:30,048 Saving plot nucl_101_alpha0_G_51.pdf\n"
     ]
    },
    {
     "data": {
      "text/plain": [
       "['nucl_101_alpha0_G_51.pdf']"
      ]
     },
     "execution_count": 2,
     "metadata": {},
     "output_type": "execute_result"
    }
   ],
   "source": [
    "ds = yt.load(\"lcn_Kp_p_1.0E+01_c_1.0E+00_other_alpha0.e\", step=51)\n",
    "\n",
    "@derived_field(name=\"negG\")\n",
    "def _negG(field, ds):\n",
    "    return -ds[('connect1','currdens')] \n",
    "ds.add_field((\"connect1\", \"negG\"), function=_negG, force_override=True)\n",
    "slc = yt.SlicePlot(ds, 2, ('connect1','negG'), origin=\"native\")\n",
    "slc.set_figure_size(4)\n",
    "slc.set_log(('connect1','negG'), False)\n",
    "slc.set_xlabel(\"$x$ ($\\mu$m)\")\n",
    "slc.set_ylabel(\"$y$ ($\\mu$m)\")\n",
    "slc.set_colorbar_label(('connect1', 'negG'), r\"$\\mathcal{M}_{\\eta}h'(\\xi)f(\\eta)$\")\n",
    "slc.set_width((200, 200))\n",
    "#slc.set_zlim(('connect1','negG'),0,1)\n",
    "#slc.hide_colorbar()\n",
    "slc.set_cmap(field=('connect1','negG'), cmap='RdBu_r')\n",
    "slc.save(\"nucl_101_alpha0_G_51.pdf\")"
   ]
  },
  {
   "cell_type": "code",
   "execution_count": 25,
   "metadata": {},
   "outputs": [
    {
     "name": "stderr",
     "output_type": "stream",
     "text": [
      "yt : [WARNING  ] 2019-05-18 19:46:17,878 No info_records found\n",
      "yt : [INFO     ] 2019-05-18 19:46:17,901 Loading coordinates\n",
      "yt : [INFO     ] 2019-05-18 19:46:17,919 Loading connectivity\n",
      "yt : [INFO     ] 2019-05-18 19:46:17,989 Parameters: current_time              = 31.07023437500206\n",
      "yt : [INFO     ] 2019-05-18 19:46:17,990 Parameters: domain_dimensions         = [1 1 1]\n",
      "yt : [INFO     ] 2019-05-18 19:46:17,992 Parameters: domain_left_edge          = [-20. -20.   0.]\n",
      "yt : [INFO     ] 2019-05-18 19:46:17,995 Parameters: domain_right_edge         = [220. 220.   1.]\n",
      "yt : [INFO     ] 2019-05-18 19:46:17,997 Parameters: cosmological_simulation   = 0\n",
      "yt : [INFO     ] 2019-05-18 19:46:18,000 Loading coordinates\n",
      "yt : [INFO     ] 2019-05-18 19:46:18,018 Loading connectivity\n",
      "yt : [INFO     ] 2019-05-18 19:46:19,425 xlim = -20.000000 220.000000\n",
      "yt : [INFO     ] 2019-05-18 19:46:19,427 ylim = -20.000000 220.000000\n",
      "yt : [INFO     ] 2019-05-18 19:46:19,430 xlim = -20.000000 220.000000\n",
      "yt : [INFO     ] 2019-05-18 19:46:19,431 ylim = -20.000000 220.000000\n",
      "yt : [INFO     ] 2019-05-18 19:46:19,435 Making a fixed resolution buffer of (('all', 'G')) 800 by 800\n",
      "yt : [INFO     ] 2019-05-18 19:46:20,610 Making a fixed resolution buffer of (('all', 'G')) 800 by 800\n",
      "yt : [INFO     ] 2019-05-18 19:46:21,285 Saving plot nucl_0_alpha0_51.pdf\n"
     ]
    },
    {
     "data": {
      "text/plain": [
       "['nucl_0_alpha0_51.pdf']"
      ]
     },
     "execution_count": 25,
     "metadata": {},
     "output_type": "execute_result"
    }
   ],
   "source": [
    "ds = yt.load(\"lcn0_other.e\", step=51)\n",
    "slc = yt.SlicePlot(ds, 2, ('all','G'), origin=\"native\")\n",
    "slc.set_figure_size(4)\n",
    "slc.set_log(('all','G'), False)\n",
    "slc.set_xlabel(\"x ($\\mu$m)\")\n",
    "slc.set_ylabel(\"y ($\\mu$m)\")\n",
    "#slc.set_xlim(0,200)s\n",
    "slc.set_colorbar_label(('all', 'G'), \"$f(\\eta)$\")\n",
    "slc.set_width((200, 200))\n",
    "#slc.set_zlim('G',-1,0)\n",
    "slc.hide_colorbar()\n",
    "slc.set_cmap(field=('all','G'), cmap='RdBu_r')\n",
    "#slc.save(\"nucl_0_alpha0_G_51.pdf\")"
   ]
  },
  {
   "cell_type": "code",
   "execution_count": 32,
   "metadata": {},
   "outputs": [
    {
     "name": "stderr",
     "output_type": "stream",
     "text": [
      "yt : [WARNING  ] 2019-04-29 20:29:16,739 No info_records found\n",
      "yt : [INFO     ] 2019-04-29 20:29:16,767 Loading coordinates\n",
      "yt : [INFO     ] 2019-04-29 20:29:16,777 Loading connectivity\n",
      "yt : [INFO     ] 2019-04-29 20:29:16,841 Parameters: current_time              = 120.46558593752472\n",
      "yt : [INFO     ] 2019-04-29 20:29:16,842 Parameters: domain_dimensions         = [1 1 1]\n",
      "yt : [INFO     ] 2019-04-29 20:29:16,844 Parameters: domain_left_edge          = [-20. -20.   0.]\n",
      "yt : [INFO     ] 2019-04-29 20:29:16,847 Parameters: domain_right_edge         = [220. 220.   1.]\n",
      "yt : [INFO     ] 2019-04-29 20:29:16,849 Parameters: cosmological_simulation   = 0\n",
      "yt : [INFO     ] 2019-04-29 20:29:16,851 Loading coordinates\n",
      "yt : [INFO     ] 2019-04-29 20:29:16,869 Loading connectivity\n",
      "yt : [INFO     ] 2019-04-29 20:29:17,143 xlim = -20.000000 220.000000\n",
      "yt : [INFO     ] 2019-04-29 20:29:17,145 ylim = -20.000000 220.000000\n",
      "yt : [INFO     ] 2019-04-29 20:29:17,150 xlim = -20.000000 220.000000\n",
      "yt : [INFO     ] 2019-04-29 20:29:17,151 ylim = -20.000000 220.000000\n",
      "yt : [INFO     ] 2019-04-29 20:29:17,155 Making a fixed resolution buffer of (('all', 'eta')) 800 by 800\n",
      "yt : [INFO     ] 2019-04-29 20:29:18,020 Making a fixed resolution buffer of (('all', 'eta')) 800 by 800\n"
     ]
    },
    {
     "data": {
      "text/html": [
       "<img style=\"max-width:100%%;max-height:100%%;\" src=\"data:image/png;base64,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\"><br>"
      ],
      "text/plain": [
       "<yt.visualization.plot_window.AxisAlignedSlicePlot at 0x11ccbad50>"
      ]
     },
     "execution_count": 32,
     "metadata": {},
     "output_type": "execute_result"
    }
   ],
   "source": [
    "ds = yt.load(\"lcn_Kp_p_1.0E+01_c_1.0E+00_other_alpha0.e\", step=200)\n",
    "\n",
    "from matplotlib import rcParams\n",
    "rcParams['font.family'] = 'serif'\n",
    "rcParams['font.size'] = 24\n",
    "rcParams['font.serif'] = ['Computer Modern Roman']\n",
    "rcParams['text.usetex'] = True\n",
    "#rcParams[\"font.weight\"] = \"bold\"\n",
    "\n",
    "slc = yt.SlicePlot(ds, 2, ('all','eta'), origin=\"native\")\n",
    "slc.set_figure_size(4)\n",
    "slc.set_log(('all','eta'), False)\n",
    "slc.set_xlabel(\"x ($\\mu$m)\")\n",
    "slc.set_ylabel(\"y ($\\mu$m)\")\n",
    "#slc.set_xlim(0,200)\n",
    "slc.set_colorbar_label(('all', 'eta'), \"$\\\\xi$\")\n",
    "slc.set_width((200, 200))\n",
    "slc.set_zlim('eta',0,1)\n",
    "slc.set_cmap(field=('all','eta'), cmap='RdBu_r')\n",
    "#slc.save(\"nucl_101_alpha0_200_settings.png\")"
   ]
  },
  {
   "cell_type": "code",
   "execution_count": 17,
   "metadata": {},
   "outputs": [
    {
     "name": "stderr",
     "output_type": "stream",
     "text": [
      "yt : [INFO     ] 2019-06-22 20:43:38,962 Loading coordinates\n",
      "yt : [INFO     ] 2019-06-22 20:43:38,975 Loading connectivity\n",
      "yt : [INFO     ] 2019-06-22 20:43:39,009 Parameters: current_time              = 332.79499999984216\n",
      "yt : [INFO     ] 2019-06-22 20:43:39,010 Parameters: domain_dimensions         = [1 1 1]\n",
      "yt : [INFO     ] 2019-06-22 20:43:39,012 Parameters: domain_left_edge          = [-20. -20.   0.]\n",
      "yt : [INFO     ] 2019-06-22 20:43:39,015 Parameters: domain_right_edge         = [220. 220.   1.]\n",
      "yt : [INFO     ] 2019-06-22 20:43:39,019 Parameters: cosmological_simulation   = 0\n",
      "yt : [INFO     ] 2019-06-22 20:43:39,028 Loading coordinates\n",
      "yt : [INFO     ] 2019-06-22 20:43:39,048 Loading connectivity\n",
      "yt : [INFO     ] 2019-06-22 20:43:39,636 xlim = -20.000000 220.000000\n",
      "yt : [INFO     ] 2019-06-22 20:43:39,637 ylim = -20.000000 220.000000\n",
      "yt : [INFO     ] 2019-06-22 20:43:39,638 xlim = -20.000000 220.000000\n",
      "yt : [INFO     ] 2019-06-22 20:43:39,640 ylim = -20.000000 220.000000\n",
      "yt : [INFO     ] 2019-06-22 20:43:39,643 Making a fixed resolution buffer of (('all', 'eta')) 800 by 800\n",
      "yt : [INFO     ] 2019-06-22 20:43:40,093 Making a fixed resolution buffer of (('all', 'eta')) 800 by 800\n"
     ]
    },
    {
     "data": {
      "text/html": [
       "<img style=\"max-width:100%%;max-height:100%%;\" src=\"data:image/png;base64,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\"><br>"
      ],
      "text/plain": [
       "<yt.visualization.plot_window.AxisAlignedSlicePlot at 0x12661c9b0>"
      ]
     },
     "execution_count": 17,
     "metadata": {},
     "output_type": "execute_result"
    }
   ],
   "source": [
    "ds = yt.load(\"../liqcrys_K0_ovp_other.e\", step=-40)\n",
    "slc = yt.SlicePlot(ds, 2, ('all','eta'), origin=\"native\")\n",
    "slc.set_figure_size(4)\n",
    "slc.set_log(('all','eta'), False)\n",
    "slc.set_xlabel(\"$x$ ($\\mu$m)\")\n",
    "slc.set_ylabel(\"$y$ ($\\mu$m)\")\n",
    "#slc.set_xlim(0,200)s/\n",
    "slc.set_colorbar_label(('all', 'eta'), \"$\\\\xi$\")\n",
    "slc.set_width((200, 200))\n",
    "slc.set_zlim('eta',0,1)\n",
    "slc.set_cmap(field=('all','eta'), cmap='RdBu_r')\n",
    "slc.hide_colorbar()\n",
    "slc.hide_axes()\n",
    "#slc.save(\"schematic_RdBu.pdf\")"
   ]
  },
  {
   "cell_type": "code",
   "execution_count": 14,
   "metadata": {},
   "outputs": [
    {
     "name": "stderr",
     "output_type": "stream",
     "text": [
      "yt : [INFO     ] 2019-06-22 14:36:15,965 Loading coordinates\n",
      "yt : [INFO     ] 2019-06-22 14:36:15,973 Loading connectivity\n",
      "yt : [INFO     ] 2019-06-22 14:36:15,996 Parameters: current_time              = 300.41499999987155\n",
      "yt : [INFO     ] 2019-06-22 14:36:16,000 Parameters: domain_dimensions         = [1 1 1]\n",
      "yt : [INFO     ] 2019-06-22 14:36:16,001 Parameters: domain_left_edge          = [-20. -20.   0.]\n",
      "yt : [INFO     ] 2019-06-22 14:36:16,033 Parameters: domain_right_edge         = [220. 220.   1.]\n",
      "yt : [INFO     ] 2019-06-22 14:36:16,035 Parameters: cosmological_simulation   = 0\n",
      "yt : [INFO     ] 2019-06-22 14:36:16,074 Loading coordinates\n",
      "yt : [INFO     ] 2019-06-22 14:36:16,100 Loading connectivity\n",
      "yt : [INFO     ] 2019-06-22 14:36:16,326 xlim = -20.000000 220.000000\n",
      "yt : [INFO     ] 2019-06-22 14:36:16,327 ylim = -20.000000 220.000000\n",
      "yt : [INFO     ] 2019-06-22 14:36:16,329 xlim = -20.000000 220.000000\n",
      "yt : [INFO     ] 2019-06-22 14:36:16,333 ylim = -20.000000 220.000000\n",
      "yt : [INFO     ] 2019-06-22 14:36:16,334 Making a fixed resolution buffer of (('all', 'eta')) 800 by 800\n",
      "yt : [INFO     ] 2019-06-22 14:36:17,274 Making a fixed resolution buffer of (('all', 'eta')) 800 by 800\n"
     ]
    },
    {
     "data": {
      "text/html": [
       "<img style=\"max-width:100%%;max-height:100%%;\" src=\"data:image/png;base64,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\"><br>"
      ],
      "text/plain": [
       "<yt.visualization.plot_window.AxisAlignedSlicePlot at 0x1270335c0>"
      ]
     },
     "execution_count": 14,
     "metadata": {},
     "output_type": "execute_result"
    }
   ],
   "source": [
    "ds = yt.load(\"../liqcrys_Kp_p_1.0E-02_c_1.0E-02_other.e\", step=500)\n",
    "slc = yt.SlicePlot(ds, 2, ('all','eta'), origin=\"native\")\n",
    "slc.set_figure_size(4)\n",
    "slc.set_log(('all','eta'), False)\n",
    "slc.set_xlabel(\"$x$ ($\\mu$m)\")\n",
    "slc.set_ylabel(\"$y$ ($\\mu$m)\")\n",
    "#slc.set_xlim(0,200)s/\n",
    "slc.set_colorbar_label(('all', 'eta'), \"$\\\\xi$\")\n",
    "slc.set_width((200, 200))\n",
    "slc.set_zlim('eta',0,1)\n",
    "slc.set_cmap(field=('all','eta'), cmap='RdBu_r')\n",
    "slc.annotate_quiver(('all','nlc_x'), ('all','nlc_y'), factor = 70, plot_args={\"color\": \"white\"})\n",
    "slc.hide_colorbar()\n",
    "slc.hide_axes()"
   ]
  },
  {
   "cell_type": "code",
   "execution_count": 16,
   "metadata": {},
   "outputs": [
    {
     "name": "stderr",
     "output_type": "stream",
     "text": [
      "yt : [WARNING  ] 2019-06-22 20:43:23,457 No info_records found\n",
      "yt : [INFO     ] 2019-06-22 20:43:23,471 Loading coordinates\n",
      "yt : [INFO     ] 2019-06-22 20:43:23,510 Loading connectivity\n",
      "yt : [INFO     ] 2019-06-22 20:43:23,574 Parameters: current_time              = 1.0752343750000006\n",
      "yt : [INFO     ] 2019-06-22 20:43:23,577 Parameters: domain_dimensions         = [1 1 1]\n",
      "yt : [INFO     ] 2019-06-22 20:43:23,579 Parameters: domain_left_edge          = [-20. -20.   0.]\n",
      "yt : [INFO     ] 2019-06-22 20:43:23,582 Parameters: domain_right_edge         = [220. 220.   1.]\n",
      "yt : [INFO     ] 2019-06-22 20:43:23,587 Parameters: cosmological_simulation   = 0\n",
      "yt : [INFO     ] 2019-06-22 20:43:23,590 Loading coordinates\n",
      "yt : [INFO     ] 2019-06-22 20:43:23,602 Loading connectivity\n",
      "yt : [INFO     ] 2019-06-22 20:43:23,815 xlim = -20.000000 220.000000\n",
      "yt : [INFO     ] 2019-06-22 20:43:23,816 ylim = -20.000000 220.000000\n",
      "yt : [INFO     ] 2019-06-22 20:43:23,818 xlim = -20.000000 220.000000\n",
      "yt : [INFO     ] 2019-06-22 20:43:23,820 ylim = -20.000000 220.000000\n",
      "yt : [INFO     ] 2019-06-22 20:43:23,826 Making a fixed resolution buffer of (('all', 'eta')) 800 by 800\n",
      "yt : [INFO     ] 2019-06-22 20:43:24,496 Making a fixed resolution buffer of (('all', 'eta')) 800 by 800\n"
     ]
    },
    {
     "data": {
      "text/html": [
       "<img style=\"max-width:100%%;max-height:100%%;\" src=\"data:image/png;base64,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\"><br>"
      ],
      "text/plain": [
       "<yt.visualization.plot_window.AxisAlignedSlicePlot at 0x123a448d0>"
      ]
     },
     "execution_count": 16,
     "metadata": {},
     "output_type": "execute_result"
    }
   ],
   "source": [
    "ds = yt.load(\"lcn0_other.e\", step=1)\n",
    "slc = yt.SlicePlot(ds, 2, ('all','eta'), origin=\"native\")\n",
    "slc.set_figure_size(4)\n",
    "slc.set_log(('all','eta'), False)\n",
    "slc.set_xlabel(\"$x$ ($\\mu$m)\")\n",
    "slc.set_ylabel(\"$y$ ($\\mu$m)\")\n",
    "#slc.set_xlim(0,200)s/\n",
    "slc.set_colorbar_label(('all', 'eta'), \"$\\\\xi$\")\n",
    "slc.set_width((200, 200))\n",
    "slc.set_zlim('eta',0,1)\n",
    "slc.set_cmap(field=('all','eta'), cmap='RdBu_r')\n",
    "slc.hide_colorbar()\n",
    "slc.hide_axes()\n",
    "slc.save(\"nucl0.pdf\")"
   ]
  },
  {
   "cell_type": "code",
   "execution_count": 4,
   "metadata": {},
   "outputs": [
    {
     "name": "stderr",
     "output_type": "stream",
     "text": [
      "yt : [WARNING  ] 2019-05-20 17:02:16,957 No info_records found\n",
      "yt : [INFO     ] 2019-05-20 17:02:16,974 Loading coordinates\n",
      "yt : [INFO     ] 2019-05-20 17:02:16,983 Loading connectivity\n",
      "yt : [INFO     ] 2019-05-20 17:02:17,054 Parameters: current_time              = 1.0655859375000007\n",
      "yt : [INFO     ] 2019-05-20 17:02:17,055 Parameters: domain_dimensions         = [1 1 1]\n",
      "yt : [INFO     ] 2019-05-20 17:02:17,057 Parameters: domain_left_edge          = [-20. -20.   0.]\n",
      "yt : [INFO     ] 2019-05-20 17:02:17,059 Parameters: domain_right_edge         = [220. 220.   1.]\n",
      "yt : [INFO     ] 2019-05-20 17:02:17,061 Parameters: cosmological_simulation   = 0\n",
      "yt : [INFO     ] 2019-05-20 17:02:17,063 Loading coordinates\n",
      "yt : [INFO     ] 2019-05-20 17:02:17,074 Loading connectivity\n",
      "yt : [INFO     ] 2019-05-20 17:02:17,352 xlim = -90.000000 150.000000\n",
      "yt : [INFO     ] 2019-05-20 17:02:17,353 ylim = -20.000000 220.000000\n",
      "yt : [INFO     ] 2019-05-20 17:02:17,356 xlim = -90.000000 150.000000\n",
      "yt : [INFO     ] 2019-05-20 17:02:17,358 ylim = -20.000000 220.000000\n",
      "yt : [INFO     ] 2019-05-20 17:02:17,362 Making a fixed resolution buffer of (('all', 'eta')) 800 by 800\n",
      "yt : [INFO     ] 2019-05-20 17:02:18,189 Making a fixed resolution buffer of (('all', 'eta')) 800 by 800\n",
      "yt : [INFO     ] 2019-05-20 17:02:18,795 Saving plot nucl_0_vec.png\n"
     ]
    },
    {
     "data": {
      "text/plain": [
       "['nucl_0_vec.png']"
      ]
     },
     "execution_count": 4,
     "metadata": {},
     "output_type": "execute_result"
    }
   ],
   "source": [
    "ds = yt.load(\"lcn_Kp_p_1.0E+01_c_1.0E+00_other_alpha0.e\", step=1)\n",
    "slc = yt.SlicePlot(ds, 2, ('all','eta'), origin=\"native\", center = [30,100,0])\n",
    "slc.set_figure_size(4)\n",
    "slc.set_log(('all','eta'), False)\n",
    "slc.set_xlabel(\"$x$ ($\\mu$m)\")\n",
    "slc.set_ylabel(\"$y$ ($\\mu$m)\")\n",
    "#slc.set_xlim(75,150)\n",
    "slc.set_colorbar_label(('all', 'eta'), \"$\\\\xi$\")\n",
    "slc.set_width((50,75))\n",
    "#slc.zoom(10)\n",
    "slc.set_zlim('eta',0,1)\n",
    "slc.set_cmap(field=('all','eta'), cmap='RdBu_r')\n",
    "\n",
    "slc.annotate_quiver(('all','nlc_x'), ('all','nlc_y'), factor = 70, plot_args={\"color\": \"white\"})\n",
    "slc.save(\"nucl_0_vec.png\")"
   ]
  },
  {
   "cell_type": "code",
   "execution_count": 20,
   "metadata": {},
   "outputs": [
    {
     "name": "stderr",
     "output_type": "stream",
     "text": [
      "yt : [WARNING  ] 2019-05-28 16:51:44,358 No info_records found\n",
      "yt : [INFO     ] 2019-05-28 16:51:44,384 Loading coordinates\n",
      "yt : [INFO     ] 2019-05-28 16:51:44,395 Loading connectivity\n",
      "yt : [INFO     ] 2019-05-28 16:51:44,464 Parameters: current_time              = 401.1149999997802\n",
      "yt : [INFO     ] 2019-05-28 16:51:44,466 Parameters: domain_dimensions         = [1 1 1]\n",
      "yt : [INFO     ] 2019-05-28 16:51:44,468 Parameters: domain_left_edge          = [-20. -20.   0.]\n",
      "yt : [INFO     ] 2019-05-28 16:51:44,470 Parameters: domain_right_edge         = [220. 220.   1.]\n",
      "yt : [INFO     ] 2019-05-28 16:51:44,472 Parameters: cosmological_simulation   = 0\n",
      "yt : [INFO     ] 2019-05-28 16:51:44,474 Loading coordinates\n",
      "yt : [INFO     ] 2019-05-28 16:51:44,491 Loading connectivity\n",
      "yt : [INFO     ] 2019-05-28 16:51:44,736 xlim = -20.000000 220.000000\n",
      "yt : [INFO     ] 2019-05-28 16:51:44,738 ylim = -20.000000 220.000000\n",
      "yt : [INFO     ] 2019-05-28 16:51:44,740 xlim = -20.000000 220.000000\n",
      "yt : [INFO     ] 2019-05-28 16:51:44,742 ylim = -20.000000 220.000000\n",
      "yt : [INFO     ] 2019-05-28 16:51:44,746 Making a fixed resolution buffer of (('all', 'eta')) 800 by 800\n",
      "yt : [INFO     ] 2019-05-28 16:51:45,352 Making a fixed resolution buffer of (('all', 'eta')) 800 by 800\n",
      "yt : [INFO     ] 2019-05-28 16:51:45,963 Saving plot K101_x130.png\n"
     ]
    },
    {
     "data": {
      "text/plain": [
       "['K101_x130.png']"
      ]
     },
     "execution_count": 20,
     "metadata": {},
     "output_type": "execute_result"
    }
   ],
   "source": [
    "ds = yt.load(\"../liqcrys_Kp_p_1.0E+01_c_1.0E+00_other.e\", step = 668)\n",
    "slc = yt.SlicePlot(ds, 2, ('all','eta'), origin=\"native\")\n",
    "slc.set_figure_size(4)\n",
    "slc.set_log(('all','eta'), False)\n",
    "slc.set_xlabel(\"$x$ ($\\mu$m)\")\n",
    "slc.set_ylabel(\"$y$ ($\\mu$m)\")\n",
    "#slc.set_xlim(0,200)s/\n",
    "slc.set_colorbar_label(('all', 'eta'), \"$\\\\xi$\")\n",
    "slc.set_width((200, 200))\n",
    "slc.set_zlim('eta',0,1)\n",
    "slc.hide_colorbar()\n",
    "slc.hide_axes()\n",
    "slc.set_cmap(field=('all','eta'), cmap='RdBu_r')\n",
    "slc.save(\"K101_x130.png\")"
   ]
  },
  {
   "cell_type": "code",
   "execution_count": 22,
   "metadata": {},
   "outputs": [
    {
     "name": "stderr",
     "output_type": "stream",
     "text": [
      "yt : [WARNING  ] 2019-05-28 16:51:55,282 No info_records found\n",
      "yt : [INFO     ] 2019-05-28 16:51:55,315 Loading coordinates\n",
      "yt : [INFO     ] 2019-05-28 16:51:55,324 Loading connectivity\n",
      "yt : [INFO     ] 2019-05-28 16:51:55,419 Parameters: current_time              = 321.39499999985253\n",
      "yt : [INFO     ] 2019-05-28 16:51:55,421 Parameters: domain_dimensions         = [1 1 1]\n",
      "yt : [INFO     ] 2019-05-28 16:51:55,423 Parameters: domain_left_edge          = [-20. -20.   0.]\n",
      "yt : [INFO     ] 2019-05-28 16:51:55,428 Parameters: domain_right_edge         = [220. 220.   1.]\n",
      "yt : [INFO     ] 2019-05-28 16:51:55,437 Parameters: cosmological_simulation   = 0\n",
      "yt : [INFO     ] 2019-05-28 16:51:55,450 Loading coordinates\n",
      "yt : [INFO     ] 2019-05-28 16:51:55,485 Loading connectivity\n",
      "yt : [INFO     ] 2019-05-28 16:51:56,033 xlim = -20.000000 220.000000\n",
      "yt : [INFO     ] 2019-05-28 16:51:56,035 ylim = -20.000000 220.000000\n",
      "yt : [INFO     ] 2019-05-28 16:51:56,038 xlim = -20.000000 220.000000\n",
      "yt : [INFO     ] 2019-05-28 16:51:56,040 ylim = -20.000000 220.000000\n",
      "yt : [INFO     ] 2019-05-28 16:51:56,044 Making a fixed resolution buffer of (('all', 'eta')) 800 by 800\n",
      "yt : [INFO     ] 2019-05-28 16:51:56,730 Making a fixed resolution buffer of (('all', 'eta')) 800 by 800\n",
      "yt : [INFO     ] 2019-05-28 16:51:57,445 Saving plot K0_x130.png\n"
     ]
    },
    {
     "data": {
      "text/plain": [
       "['K0_x130.png']"
      ]
     },
     "execution_count": 22,
     "metadata": {},
     "output_type": "execute_result"
    }
   ],
   "source": [
    "ds = yt.load(\"../liqcrys_K0_ovp_other.e\", step = 535)\n",
    "slc = yt.SlicePlot(ds, 2, ('all','eta'), origin=\"native\")\n",
    "slc.set_figure_size(4)\n",
    "slc.set_log(('all','eta'), False)\n",
    "slc.set_xlabel(\"$x$ ($\\mu$m)\")\n",
    "slc.set_ylabel(\"$y$ ($\\mu$m)\")\n",
    "#slc.set_xlim(0,200)s/\n",
    "slc.set_colorbar_label(('all', 'eta'), \"$\\\\xi$\")\n",
    "slc.set_width((200, 200))\n",
    "slc.set_zlim('eta',0,1)\n",
    "slc.hide_colorbar()\n",
    "slc.hide_axes()\n",
    "slc.set_cmap(field=('all','eta'), cmap='RdBu_r')\n",
    "slc.save(\"K0_x130.png\")"
   ]
  },
  {
   "cell_type": "code",
   "execution_count": 25,
   "metadata": {},
   "outputs": [
    {
     "name": "stderr",
     "output_type": "stream",
     "text": [
      "yt : [WARNING  ] 2019-05-28 17:07:05,357 No info_records found\n",
      "yt : [INFO     ] 2019-05-28 17:07:05,376 Loading coordinates\n",
      "yt : [INFO     ] 2019-05-28 17:07:05,391 Loading connectivity\n",
      "yt : [INFO     ] 2019-05-28 17:07:05,455 Parameters: current_time              = 133.04523437502397\n",
      "yt : [INFO     ] 2019-05-28 17:07:05,456 Parameters: domain_dimensions         = [1 1 1]\n",
      "yt : [INFO     ] 2019-05-28 17:07:05,458 Parameters: domain_left_edge          = [-20. -20.   0.]\n",
      "yt : [INFO     ] 2019-05-28 17:07:05,460 Parameters: domain_right_edge         = [220. 220.   1.]\n",
      "yt : [INFO     ] 2019-05-28 17:07:05,462 Parameters: cosmological_simulation   = 0\n",
      "yt : [INFO     ] 2019-05-28 17:07:05,465 Loading coordinates\n",
      "yt : [INFO     ] 2019-05-28 17:07:05,479 Loading connectivity\n",
      "yt : [INFO     ] 2019-05-28 17:07:05,704 xlim = -20.000000 220.000000\n",
      "yt : [INFO     ] 2019-05-28 17:07:05,706 ylim = -20.000000 220.000000\n",
      "yt : [INFO     ] 2019-05-28 17:07:05,710 xlim = -20.000000 220.000000\n",
      "yt : [INFO     ] 2019-05-28 17:07:05,717 ylim = -20.000000 220.000000\n",
      "yt : [INFO     ] 2019-05-28 17:07:05,722 Making a fixed resolution buffer of (('all', 'eta')) 800 by 800\n",
      "yt : [INFO     ] 2019-05-28 17:07:06,330 Making a fixed resolution buffer of (('all', 'eta')) 800 by 800\n"
     ]
    },
    {
     "data": {
      "text/html": [
       "<img style=\"max-width:100%%;max-height:100%%;\" src=\"data:image/png;base64,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\"><br>"
      ],
      "text/plain": [
       "<yt.visualization.plot_window.AxisAlignedSlicePlot at 0x1271ba410>"
      ]
     },
     "execution_count": 25,
     "metadata": {},
     "output_type": "execute_result"
    }
   ],
   "source": [
    "ds = yt.load(\"lcn0_other.e\", step = 221)\n",
    "slc = yt.SlicePlot(ds, 2, ('all','eta'), origin=\"native\")\n",
    "slc.set_figure_size(4)\n",
    "slc.set_log(('all','eta'), False)\n",
    "slc.set_xlabel(\"$x$ ($\\mu$m)\")\n",
    "slc.set_ylabel(\"$y$ ($\\mu$m)\")\n",
    "#slc.set_xlim(0,200)s/\n",
    "slc.set_colorbar_label(('all', 'eta'), \"$\\\\xi$\")\n",
    "slc.set_width((200, 200))\n",
    "slc.set_zlim('eta',0,1)\n",
    "slc.hide_colorbar()\n",
    "slc.hide_axes()\n",
    "slc.set_cmap(field=('all','eta'), cmap='RdBu_r')\n",
    "#slc.save(\"K0_x130.png\")"
   ]
  },
  {
   "cell_type": "code",
   "execution_count": 3,
   "metadata": {},
   "outputs": [
    {
     "name": "stderr",
     "output_type": "stream",
     "text": [
      "yt : [WARNING  ] 2019-06-08 12:27:04,911 No info_records found\n",
      "yt : [INFO     ] 2019-06-08 12:27:04,922 Loading coordinates\n",
      "yt : [INFO     ] 2019-06-08 12:27:04,930 Loading connectivity\n",
      "yt : [INFO     ] 2019-06-08 12:27:04,972 Parameters: current_time              = 31.06558593750206\n",
      "yt : [INFO     ] 2019-06-08 12:27:04,974 Parameters: domain_dimensions         = [1 1 1]\n",
      "yt : [INFO     ] 2019-06-08 12:27:04,978 Parameters: domain_left_edge          = [-20. -20.   0.]\n",
      "yt : [INFO     ] 2019-06-08 12:27:04,987 Parameters: domain_right_edge         = [220. 220.   1.]\n",
      "yt : [INFO     ] 2019-06-08 12:27:04,993 Parameters: cosmological_simulation   = 0\n",
      "yt : [INFO     ] 2019-06-08 12:27:04,999 Loading coordinates\n",
      "yt : [INFO     ] 2019-06-08 12:27:05,014 Loading connectivity\n"
     ]
    },
    {
     "data": {
      "text/plain": [
       "[('all', 'Gox'),\n",
       " ('all', 'Gred'),\n",
       " ('all', 'argexplc'),\n",
       " ('all', 'c'),\n",
       " ('all', 'currdens'),\n",
       " ('all', 'dGox/deta'),\n",
       " ('all', 'dGox/dpot'),\n",
       " ('all', 'dGred/deta'),\n",
       " ('all', 'dGred/dpot'),\n",
       " ('all', 'dGred/dw'),\n",
       " ('all', 'edf'),\n",
       " ('all', 'epen'),\n",
       " ('all', 'eta'),\n",
       " ('all', 'etao'),\n",
       " ('all', 'gradeta_x'),\n",
       " ('all', 'gradeta_y'),\n",
       " ('all', 'lambda'),\n",
       " ('all', 'lcovp'),\n",
       " ('all', 'nlc_x'),\n",
       " ('all', 'nlc_y'),\n",
       " ('all', 'pot'),\n",
       " ('all', 'surfpen'),\n",
       " ('all', 'w'),\n",
       " ('connect1', 'Gox'),\n",
       " ('connect1', 'Gred'),\n",
       " ('connect1', 'argexplc'),\n",
       " ('connect1', 'c'),\n",
       " ('connect1', 'currdens'),\n",
       " ('connect1', 'dGox/deta'),\n",
       " ('connect1', 'dGox/dpot'),\n",
       " ('connect1', 'dGred/deta'),\n",
       " ('connect1', 'dGred/dpot'),\n",
       " ('connect1', 'dGred/dw'),\n",
       " ('connect1', 'edf'),\n",
       " ('connect1', 'epen'),\n",
       " ('connect1', 'eta'),\n",
       " ('connect1', 'etao'),\n",
       " ('connect1', 'gradeta_x'),\n",
       " ('connect1', 'gradeta_y'),\n",
       " ('connect1', 'lambda'),\n",
       " ('connect1', 'lcovp'),\n",
       " ('connect1', 'nlc_x'),\n",
       " ('connect1', 'nlc_y'),\n",
       " ('connect1', 'pot'),\n",
       " ('connect1', 'surfpen'),\n",
       " ('connect1', 'w')]"
      ]
     },
     "execution_count": 3,
     "metadata": {},
     "output_type": "execute_result"
    }
   ],
   "source": [
    "dd = yt.load(\"lcn_Kp_p_1.0E+01_c_1.0E+00_other_alpha0.e\", step=51)\n",
    "dd.field_list"
   ]
  },
  {
   "cell_type": "code",
   "execution_count": 9,
   "metadata": {},
   "outputs": [
    {
     "name": "stderr",
     "output_type": "stream",
     "text": [
      "yt : [INFO     ] 2019-06-18 20:33:28,021 Loading coordinates\n",
      "yt : [INFO     ] 2019-06-18 20:33:28,028 Loading connectivity\n",
      "yt : [INFO     ] 2019-06-18 20:33:28,052 Parameters: current_time              = 329.7949999998449\n",
      "yt : [INFO     ] 2019-06-18 20:33:28,053 Parameters: domain_dimensions         = [1 1 1]\n",
      "yt : [INFO     ] 2019-06-18 20:33:28,054 Parameters: domain_left_edge          = [-20. -20.   0.]\n",
      "yt : [INFO     ] 2019-06-18 20:33:28,056 Parameters: domain_right_edge         = [220. 220.   1.]\n",
      "yt : [INFO     ] 2019-06-18 20:33:28,058 Parameters: cosmological_simulation   = 0\n",
      "yt : [INFO     ] 2019-06-18 20:33:28,062 Loading coordinates\n",
      "yt : [INFO     ] 2019-06-18 20:33:28,079 Loading connectivity\n",
      "yt : [INFO     ] 2019-06-18 20:33:28,225 xlim = -20.000000 220.000000\n",
      "yt : [INFO     ] 2019-06-18 20:33:28,226 ylim = -20.000000 220.000000\n",
      "yt : [INFO     ] 2019-06-18 20:33:28,227 xlim = -20.000000 220.000000\n",
      "yt : [INFO     ] 2019-06-18 20:33:28,228 ylim = -20.000000 220.000000\n",
      "yt : [INFO     ] 2019-06-18 20:33:28,231 Making a fixed resolution buffer of (('all', 'eta')) 800 by 800\n",
      "yt : [INFO     ] 2019-06-18 20:33:28,660 Making a fixed resolution buffer of (('all', 'eta')) 800 by 800\n",
      "yt : [INFO     ] 2019-06-18 20:33:29,034 Saving plot liqcrys_K0_330_549.pdf\n"
     ]
    },
    {
     "data": {
      "text/plain": [
       "['liqcrys_K0_330_549.pdf']"
      ]
     },
     "execution_count": 9,
     "metadata": {},
     "output_type": "execute_result"
    }
   ],
   "source": [
    "#166=100, 333=200, 549=330\n",
    "step = 549\n",
    "ds = yt.load(\"../liqcrys_K0_ovp_other.e\", step=step)\n",
    "slc = yt.SlicePlot(ds, 2, ('all','eta'), origin=\"native\")\n",
    "slc.set_figure_size(4)\n",
    "slc.set_log(('all','eta'), False)\n",
    "slc.set_xlabel(\"$x$ ($\\mu$m)\")\n",
    "slc.set_ylabel(\"$y$ ($\\mu$m)\")\n",
    "#slc.set_xlim(0,200)s/\n",
    "slc.set_colorbar_label(('all', 'eta'), \"$\\\\xi$\")\n",
    "slc.set_width((200, 200))\n",
    "slc.set_zlim('eta',0,1)\n",
    "slc.set_cmap(field=('all','eta'), cmap='RdBu_r')\n",
    "slc.save(\"liqcrys_K0_330_549.pdf\")"
   ]
  },
  {
   "cell_type": "code",
   "execution_count": 15,
   "metadata": {},
   "outputs": [
    {
     "name": "stderr",
     "output_type": "stream",
     "text": [
      "yt : [INFO     ] 2019-06-18 20:42:00,946 Loading coordinates\n",
      "yt : [INFO     ] 2019-06-18 20:42:00,950 Loading connectivity\n",
      "yt : [INFO     ] 2019-06-18 20:42:00,974 Parameters: current_time              = 329.89999999984497\n",
      "yt : [INFO     ] 2019-06-18 20:42:00,975 Parameters: domain_dimensions         = [1 1 1]\n",
      "yt : [INFO     ] 2019-06-18 20:42:00,976 Parameters: domain_left_edge          = [-20. -20.   0.]\n",
      "yt : [INFO     ] 2019-06-18 20:42:00,979 Parameters: domain_right_edge         = [220. 220.   1.]\n",
      "yt : [INFO     ] 2019-06-18 20:42:00,985 Parameters: cosmological_simulation   = 0\n",
      "yt : [INFO     ] 2019-06-18 20:42:00,990 Loading coordinates\n",
      "yt : [INFO     ] 2019-06-18 20:42:01,008 Loading connectivity\n",
      "yt : [INFO     ] 2019-06-18 20:42:01,164 xlim = -20.000000 220.000000\n",
      "yt : [INFO     ] 2019-06-18 20:42:01,165 ylim = -20.000000 220.000000\n",
      "yt : [INFO     ] 2019-06-18 20:42:01,166 xlim = -20.000000 220.000000\n",
      "yt : [INFO     ] 2019-06-18 20:42:01,170 ylim = -20.000000 220.000000\n",
      "yt : [INFO     ] 2019-06-18 20:42:01,172 Making a fixed resolution buffer of (('all', 'eta')) 800 by 800\n",
      "yt : [INFO     ] 2019-06-18 20:42:01,717 Making a fixed resolution buffer of (('all', 'eta')) 800 by 800\n",
      "yt : [INFO     ] 2019-06-18 20:42:02,108 Saving plot liqcrys_K101_330_549.pdf\n"
     ]
    },
    {
     "data": {
      "text/plain": [
       "['liqcrys_K101_330_549.pdf']"
      ]
     },
     "execution_count": 15,
     "metadata": {},
     "output_type": "execute_result"
    }
   ],
   "source": [
    "#166=100, 332=200, 549=330\n",
    "step = 549\n",
    "ds = yt.load(\"../liqcrys_Kp_p_1.0E+01_c_1.0E+00_other.e\", step=step)\n",
    "slc = yt.SlicePlot(ds, 2, ('all','eta'), origin=\"native\")\n",
    "slc.set_figure_size(4)\n",
    "slc.set_log(('all','eta'), False)\n",
    "slc.set_xlabel(\"$x$ ($\\mu$m)\")\n",
    "slc.set_ylabel(\"$y$ ($\\mu$m)\")\n",
    "#slc.set_xlim(0,200)s/\n",
    "slc.set_colorbar_label(('all', 'eta'), \"$\\\\xi$\")\n",
    "slc.set_width((200, 200))\n",
    "slc.set_zlim('eta',0,1)\n",
    "slc.set_cmap(field=('all','eta'), cmap='RdBu_r')\n",
    "slc.save(\"liqcrys_K101_330_549.pdf\")"
   ]
  },
  {
   "cell_type": "code",
   "execution_count": null,
   "metadata": {},
   "outputs": [],
   "source": []
  }
 ],
 "metadata": {
  "kernelspec": {
   "display_name": "Python (atomic)",
   "language": "python",
   "name": "atomic"
  },
  "language_info": {
   "codemirror_mode": {
    "name": "ipython",
    "version": 3
   },
   "file_extension": ".py",
   "mimetype": "text/x-python",
   "name": "python",
   "nbconvert_exporter": "python",
   "pygments_lexer": "ipython3",
   "version": "3.7.2"
  }
 },
 "nbformat": 4,
 "nbformat_minor": 2
}
